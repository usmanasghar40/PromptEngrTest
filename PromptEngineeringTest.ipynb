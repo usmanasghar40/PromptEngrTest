{
 "cells": [
  {
   "cell_type": "code",
   "execution_count": 34,
   "id": "07e1157f",
   "metadata": {},
   "outputs": [],
   "source": [
    "import openai\n",
    "openai.api_key = #YOUR_API_KEY"
   ]
  },
  {
   "cell_type": "markdown",
   "id": "12686564",
   "metadata": {},
   "source": [
    "# Task # 1: Add Employee autocomplete suggestions prompt:"
   ]
  },
  {
   "cell_type": "code",
   "execution_count": 39,
   "id": "fe061603",
   "metadata": {},
   "outputs": [],
   "source": [
    "def PromptEngr(Query): \n",
    "    myMessages = [\n",
    "    {\"role\": \"system\", \"content\": f'''You are Ego a personal AI. You'll be provided with a partial employee title. You'll need to provide him suggestions that are most likely relevant to the partial employee title. You'll immediately provide the suggestions as json response like,\n",
    "        {{\n",
    "        'department':'most likely department name',\n",
    "        \"role\":\"role\"\n",
    "        \"yearly_salary\":\"Most Likely salary of this role\"\n",
    "        \"bonus\":\"Most likely bonus amount\",\n",
    "        \"start_date\":\"a demo start date\",\n",
    "        }}\n",
    "And don't say anything else. and don't ask anything else.'''},\n",
    "    ]\n",
    "    myMessages.append({\"role\": \"user\", \"content\": Query})\n",
    "    response = openai.ChatCompletion.create(\n",
    "    model=\"gpt-4\",\n",
    "    messages=myMessages,\n",
    "    max_tokens= 256,\n",
    "    )\n",
    "    return response"
   ]
  },
  {
   "cell_type": "code",
   "execution_count": 40,
   "id": "74087e4e",
   "metadata": {},
   "outputs": [
    {
     "name": "stdout",
     "output_type": "stream",
     "text": [
      "{\n",
      "\"department\":\"Software Development\",\n",
      "\"role\":\"Software Developer\",\n",
      "\"yearly_salary\":\"$75,000 - $100,000\",\n",
      "\"bonus\":\"$5000 - $10,000\",\n",
      "\"start_date\":\"2023-03-12\"\n",
      "}\n"
     ]
    }
   ],
   "source": [
    "response=PromptEngr(\"Soft\")\n",
    "print(response['choices'][0]['message']['content'])"
   ]
  },
  {
   "cell_type": "code",
   "execution_count": 41,
   "id": "37480e01",
   "metadata": {},
   "outputs": [
    {
     "name": "stdout",
     "output_type": "stream",
     "text": [
      "{\n",
      "\"department\":\"Information Technology\",\n",
      "\"role\":\"Network Administrator\",\n",
      "\"yearly_salary\":\"$60,000 - $80,000\",\n",
      "\"bonus\":\"$2,000 - $5,000\",\n",
      "\"start_date\":\"2022-06-01\"\n",
      "}\n"
     ]
    }
   ],
   "source": [
    "response=PromptEngr(\"Netw\")\n",
    "print(response['choices'][0]['message']['content'])"
   ]
  },
  {
   "cell_type": "code",
   "execution_count": 42,
   "id": "4a36546c",
   "metadata": {},
   "outputs": [
    {
     "name": "stdout",
     "output_type": "stream",
     "text": [
      "{\n",
      "\"department\": \"Graphic Design\",\n",
      "\"role\": \"Design Director\",\n",
      "\"yearly_salary\": \"$80,000 - $100,000\",\n",
      "\"bonus\": \"$5,000 - $10,000\",\n",
      "\"start_date\": \"2023-03-14\"\n",
      "}\n"
     ]
    }
   ],
   "source": [
    "response=PromptEngr(\"Desi\")\n",
    "print(response['choices'][0]['message']['content'])"
   ]
  },
  {
   "cell_type": "code",
   "execution_count": 43,
   "id": "a11770ab",
   "metadata": {},
   "outputs": [
    {
     "name": "stdout",
     "output_type": "stream",
     "text": [
      "{\n",
      "\"department\": \"Healthcare\",\n",
      "\"role\": \"Nurse\",\n",
      "\"yearly_salary\": \"$70,000\",\n",
      "\"bonus\": \"$5,000\",\n",
      "\"start_date\": \"2022-04-20\"\n",
      "}\n"
     ]
    }
   ],
   "source": [
    "response=PromptEngr(\"Nur\")\n",
    "print(response['choices'][0]['message']['content'])"
   ]
  },
  {
   "cell_type": "markdown",
   "id": "050f4902",
   "metadata": {},
   "source": [
    "# Task # 2: Add hiring plan prompt"
   ]
  },
  {
   "cell_type": "code",
   "execution_count": 60,
   "id": "15d3ed4c",
   "metadata": {},
   "outputs": [],
   "source": [
    "def PromptEngrFunc(Query): \n",
    "    myMessages = [\n",
    "    {\"role\": \"system\", \"content\": f'''You are Ego a personal AI. You'll be provided a list of most likely employee suggestions according to the text of the user. You'll immediately provide the suggestions as json response like,\n",
    "        [\n",
    "        {{\n",
    "    \"percentage\": \"percentage (if mentioned)\",\n",
    "    \"years\": \"Years for payroll (if mentioned)\"\n",
    "  }},\n",
    "    {{\n",
    "        'department':'most likely department name. Available department are G&A, R&D, S&M, COGS',\n",
    "        \"role\":\"most likely role of the employee\"\n",
    "        \"yearly_salary\":\"Most Likely salary of this role\"\n",
    "        \"bonus\":\"Most likely bonus amount\",\n",
    "        \"start_date\":\"a demo start date\",\n",
    "  }}\n",
    "  ]\n",
    "And don't say anything else. and don't ask anything else.'''},\n",
    "    ]\n",
    "    myMessages.append({\"role\": \"user\", \"content\": Query})\n",
    "    response = openai.ChatCompletion.create(\n",
    "    model=\"gpt-4\",\n",
    "    messages=myMessages,\n",
    "    max_tokens= 256,\n",
    "    )\n",
    "    return response"
   ]
  },
  {
   "cell_type": "code",
   "execution_count": 61,
   "id": "4643af5a",
   "metadata": {},
   "outputs": [
    {
     "name": "stdout",
     "output_type": "stream",
     "text": [
      "[\n",
      "  {\n",
      "    \"department\": \"R&D\",\n",
      "    \"role\": \"Research Analyst\",\n",
      "    \"yearly_salary\": \"75,000\",\n",
      "    \"bonus\": \"5,000\",\n",
      "    \"start_date\": \"2022-12-01\"\n",
      "  }\n",
      "]\n"
     ]
    }
   ],
   "source": [
    "response=PromptEngrFunc(\"I want to spend in the Research & Development department.\")\n",
    "print(response['choices'][0]['message']['content'])"
   ]
  },
  {
   "cell_type": "code",
   "execution_count": 63,
   "id": "fa8d5b0e",
   "metadata": {},
   "outputs": [
    {
     "name": "stdout",
     "output_type": "stream",
     "text": [
      "[\n",
      "    {\n",
      "        \"percentage\": \"70%\",\n",
      "        \"years\": \"2 years\"\n",
      "    },\n",
      "    {\n",
      "        \"department\": \"G&A\",\n",
      "        \"role\": \"Administrator\",\n",
      "        \"yearly_salary\": \"$50,000\",\n",
      "        \"bonus\": \"$5,000\",\n",
      "        \"start_date\": \"2022-08-01\"\n",
      "    }\n",
      "]\n"
     ]
    }
   ],
   "source": [
    "response=PromptEngrFunc(\"I want to spend 70% of my budget on payroll for the next 2 years in the General and Administrative department.\")\n",
    "print(response['choices'][0]['message']['content'])"
   ]
  },
  {
   "cell_type": "code",
   "execution_count": 64,
   "id": "819c45d3",
   "metadata": {},
   "outputs": [
    {
     "name": "stdout",
     "output_type": "stream",
     "text": [
      "[\n",
      "    {\n",
      "        \"percentage\": \"10%\",\n",
      "        \"years\": \"8\"\n",
      "    },\n",
      "    {\n",
      "        \"department\": \"S&M\",\n",
      "        \"role\": \"Sales manager\",\n",
      "        \"yearly_salary\": \"$85,000\",\n",
      "        \"bonus\": \"$8,500\",\n",
      "        \"start_date\": \"01/01/2022\"\n",
      "    }\n",
      "]\n"
     ]
    }
   ],
   "source": [
    "response=PromptEngrFunc(\"I want to spend 10% of my budget on payroll for the next 8 years in the S&M department.\")\n",
    "print(response['choices'][0]['message']['content'])"
   ]
  }
 ],
 "metadata": {
  "kernelspec": {
   "display_name": "Python 3 (ipykernel)",
   "language": "python",
   "name": "python3"
  },
  "language_info": {
   "codemirror_mode": {
    "name": "ipython",
    "version": 3
   },
   "file_extension": ".py",
   "mimetype": "text/x-python",
   "name": "python",
   "nbconvert_exporter": "python",
   "pygments_lexer": "ipython3",
   "version": "3.9.13"
  }
 },
 "nbformat": 4,
 "nbformat_minor": 5
}
